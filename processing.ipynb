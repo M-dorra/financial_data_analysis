{
 "cells": [
  {
   "cell_type": "markdown",
   "id": "c01fdd06",
   "metadata": {},
   "source": [
    "### Inspecting Data"
   ]
  },
  {
   "cell_type": "code",
   "execution_count": 1,
   "id": "3221f752",
   "metadata": {},
   "outputs": [
    {
     "name": "stdout",
     "output_type": "stream",
     "text": [
      "<class 'pandas.core.frame.DataFrame'>\n",
      "RangeIndex: 3608 entries, 0 to 3607\n",
      "Data columns (total 3 columns):\n",
      " #   Column    Non-Null Count  Dtype  \n",
      "---  ------    --------------  -----  \n",
      " 0   date      3608 non-null   object \n",
      " 1   category  3608 non-null   object \n",
      " 2   amount    3608 non-null   float64\n",
      "dtypes: float64(1), object(2)\n",
      "memory usage: 84.7+ KB\n"
     ]
    },
    {
     "data": {
      "text/html": [
       "<div>\n",
       "<style scoped>\n",
       "    .dataframe tbody tr th:only-of-type {\n",
       "        vertical-align: middle;\n",
       "    }\n",
       "\n",
       "    .dataframe tbody tr th {\n",
       "        vertical-align: top;\n",
       "    }\n",
       "\n",
       "    .dataframe thead th {\n",
       "        text-align: right;\n",
       "    }\n",
       "</style>\n",
       "<table border=\"1\" class=\"dataframe\">\n",
       "  <thead>\n",
       "    <tr style=\"text-align: right;\">\n",
       "      <th></th>\n",
       "      <th>amount</th>\n",
       "    </tr>\n",
       "  </thead>\n",
       "  <tbody>\n",
       "    <tr>\n",
       "      <th>count</th>\n",
       "      <td>3608.000000</td>\n",
       "    </tr>\n",
       "    <tr>\n",
       "      <th>mean</th>\n",
       "      <td>17.130241</td>\n",
       "    </tr>\n",
       "    <tr>\n",
       "      <th>std</th>\n",
       "      <td>84.946260</td>\n",
       "    </tr>\n",
       "    <tr>\n",
       "      <th>min</th>\n",
       "      <td>0.050000</td>\n",
       "    </tr>\n",
       "    <tr>\n",
       "      <th>25%</th>\n",
       "      <td>4.800000</td>\n",
       "    </tr>\n",
       "    <tr>\n",
       "      <th>50%</th>\n",
       "      <td>7.100000</td>\n",
       "    </tr>\n",
       "    <tr>\n",
       "      <th>75%</th>\n",
       "      <td>11.505000</td>\n",
       "    </tr>\n",
       "    <tr>\n",
       "      <th>max</th>\n",
       "      <td>2500.000000</td>\n",
       "    </tr>\n",
       "  </tbody>\n",
       "</table>\n",
       "</div>"
      ],
      "text/plain": [
       "            amount\n",
       "count  3608.000000\n",
       "mean     17.130241\n",
       "std      84.946260\n",
       "min       0.050000\n",
       "25%       4.800000\n",
       "50%       7.100000\n",
       "75%      11.505000\n",
       "max    2500.000000"
      ]
     },
     "execution_count": 1,
     "metadata": {},
     "output_type": "execute_result"
    }
   ],
   "source": [
    "import pandas as pd\n",
    "import matplotlib.pyplot as plt\n",
    "import seaborn as sns\n",
    "df = pd.read_csv('expenses.csv')\n",
    "df.head()\n",
    "df.info()\n",
    "df.describe()"
   ]
  },
  {
   "cell_type": "code",
   "execution_count": 2,
   "id": "2183bc72",
   "metadata": {},
   "outputs": [
    {
     "name": "stdout",
     "output_type": "stream",
     "text": [
      "date          datetime64[ns, UTC]\n",
      "category                   object\n",
      "amount                    float64\n",
      "day                        object\n",
      "month                       int32\n",
      "year                        int32\n",
      "year_month              period[M]\n",
      "dtype: object\n"
     ]
    },
    {
     "name": "stderr",
     "output_type": "stream",
     "text": [
      "C:\\Users\\mazdo\\AppData\\Local\\Temp\\ipykernel_3512\\1985260056.py:6: UserWarning: Converting to PeriodArray/Index representation will drop timezone information.\n",
      "  df['year_month'] = df['date'].dt.to_period('M')\n"
     ]
    }
   ],
   "source": [
    "df['date'] = pd.to_datetime(df['date'],errors='coerce')\n",
    "df['amount'] = pd.to_numeric(df['amount'], errors='coerce')\n",
    "df['day'] = df['date'].dt.day_name()\n",
    "df['month'] = df['date'].dt.month\n",
    "df['year'] = df['date'].dt.year\n",
    "df['year_month'] = df['date'].dt.to_period('M')\n",
    "\n",
    "print(df.dtypes)"
   ]
  },
  {
   "cell_type": "code",
   "execution_count": 3,
   "id": "64770207",
   "metadata": {},
   "outputs": [
    {
     "data": {
      "text/html": [
       "<div>\n",
       "<style scoped>\n",
       "    .dataframe tbody tr th:only-of-type {\n",
       "        vertical-align: middle;\n",
       "    }\n",
       "\n",
       "    .dataframe tbody tr th {\n",
       "        vertical-align: top;\n",
       "    }\n",
       "\n",
       "    .dataframe thead th {\n",
       "        text-align: right;\n",
       "    }\n",
       "</style>\n",
       "<table border=\"1\" class=\"dataframe\">\n",
       "  <thead>\n",
       "    <tr style=\"text-align: right;\">\n",
       "      <th></th>\n",
       "      <th>date</th>\n",
       "      <th>category</th>\n",
       "      <th>amount</th>\n",
       "      <th>day</th>\n",
       "      <th>month</th>\n",
       "      <th>year</th>\n",
       "      <th>year_month</th>\n",
       "    </tr>\n",
       "  </thead>\n",
       "  <tbody>\n",
       "    <tr>\n",
       "      <th>0</th>\n",
       "      <td>2022-07-06 05:57:10+00:00</td>\n",
       "      <td>Restuarant</td>\n",
       "      <td>5.50</td>\n",
       "      <td>Wednesday</td>\n",
       "      <td>7</td>\n",
       "      <td>2022</td>\n",
       "      <td>2022-07</td>\n",
       "    </tr>\n",
       "    <tr>\n",
       "      <th>1</th>\n",
       "      <td>2022-07-06 05:57:27+00:00</td>\n",
       "      <td>Market</td>\n",
       "      <td>2.00</td>\n",
       "      <td>Wednesday</td>\n",
       "      <td>7</td>\n",
       "      <td>2022</td>\n",
       "      <td>2022-07</td>\n",
       "    </tr>\n",
       "    <tr>\n",
       "      <th>2</th>\n",
       "      <td>2022-07-06 05:58:12+00:00</td>\n",
       "      <td>Coffe</td>\n",
       "      <td>30.10</td>\n",
       "      <td>Wednesday</td>\n",
       "      <td>7</td>\n",
       "      <td>2022</td>\n",
       "      <td>2022-07</td>\n",
       "    </tr>\n",
       "    <tr>\n",
       "      <th>3</th>\n",
       "      <td>2022-07-06 05:58:25+00:00</td>\n",
       "      <td>Market</td>\n",
       "      <td>17.33</td>\n",
       "      <td>Wednesday</td>\n",
       "      <td>7</td>\n",
       "      <td>2022</td>\n",
       "      <td>2022-07</td>\n",
       "    </tr>\n",
       "    <tr>\n",
       "      <th>4</th>\n",
       "      <td>2022-07-06 05:59:00+00:00</td>\n",
       "      <td>Restuarant</td>\n",
       "      <td>5.50</td>\n",
       "      <td>Wednesday</td>\n",
       "      <td>7</td>\n",
       "      <td>2022</td>\n",
       "      <td>2022-07</td>\n",
       "    </tr>\n",
       "    <tr>\n",
       "      <th>...</th>\n",
       "      <td>...</td>\n",
       "      <td>...</td>\n",
       "      <td>...</td>\n",
       "      <td>...</td>\n",
       "      <td>...</td>\n",
       "      <td>...</td>\n",
       "      <td>...</td>\n",
       "    </tr>\n",
       "    <tr>\n",
       "      <th>3603</th>\n",
       "      <td>2024-09-28 13:31:37+00:00</td>\n",
       "      <td>Market</td>\n",
       "      <td>8.00</td>\n",
       "      <td>Saturday</td>\n",
       "      <td>9</td>\n",
       "      <td>2024</td>\n",
       "      <td>2024-09</td>\n",
       "    </tr>\n",
       "    <tr>\n",
       "      <th>3604</th>\n",
       "      <td>2024-09-29 02:57:07+00:00</td>\n",
       "      <td>Transport</td>\n",
       "      <td>0.50</td>\n",
       "      <td>Sunday</td>\n",
       "      <td>9</td>\n",
       "      <td>2024</td>\n",
       "      <td>2024-09</td>\n",
       "    </tr>\n",
       "    <tr>\n",
       "      <th>3605</th>\n",
       "      <td>2024-09-29 04:29:03+00:00</td>\n",
       "      <td>Market</td>\n",
       "      <td>7.40</td>\n",
       "      <td>Sunday</td>\n",
       "      <td>9</td>\n",
       "      <td>2024</td>\n",
       "      <td>2024-09</td>\n",
       "    </tr>\n",
       "    <tr>\n",
       "      <th>3606</th>\n",
       "      <td>2024-09-29 04:53:24+00:00</td>\n",
       "      <td>Coffe</td>\n",
       "      <td>15.00</td>\n",
       "      <td>Sunday</td>\n",
       "      <td>9</td>\n",
       "      <td>2024</td>\n",
       "      <td>2024-09</td>\n",
       "    </tr>\n",
       "    <tr>\n",
       "      <th>3607</th>\n",
       "      <td>2024-09-29 10:40:38+00:00</td>\n",
       "      <td>Restuarant</td>\n",
       "      <td>8.00</td>\n",
       "      <td>Sunday</td>\n",
       "      <td>9</td>\n",
       "      <td>2024</td>\n",
       "      <td>2024-09</td>\n",
       "    </tr>\n",
       "  </tbody>\n",
       "</table>\n",
       "<p>3608 rows × 7 columns</p>\n",
       "</div>"
      ],
      "text/plain": [
       "                          date    category  amount        day  month  year  \\\n",
       "0    2022-07-06 05:57:10+00:00  Restuarant    5.50  Wednesday      7  2022   \n",
       "1    2022-07-06 05:57:27+00:00      Market    2.00  Wednesday      7  2022   \n",
       "2    2022-07-06 05:58:12+00:00       Coffe   30.10  Wednesday      7  2022   \n",
       "3    2022-07-06 05:58:25+00:00      Market   17.33  Wednesday      7  2022   \n",
       "4    2022-07-06 05:59:00+00:00  Restuarant    5.50  Wednesday      7  2022   \n",
       "...                        ...         ...     ...        ...    ...   ...   \n",
       "3603 2024-09-28 13:31:37+00:00      Market    8.00   Saturday      9  2024   \n",
       "3604 2024-09-29 02:57:07+00:00   Transport    0.50     Sunday      9  2024   \n",
       "3605 2024-09-29 04:29:03+00:00      Market    7.40     Sunday      9  2024   \n",
       "3606 2024-09-29 04:53:24+00:00       Coffe   15.00     Sunday      9  2024   \n",
       "3607 2024-09-29 10:40:38+00:00  Restuarant    8.00     Sunday      9  2024   \n",
       "\n",
       "     year_month  \n",
       "0       2022-07  \n",
       "1       2022-07  \n",
       "2       2022-07  \n",
       "3       2022-07  \n",
       "4       2022-07  \n",
       "...         ...  \n",
       "3603    2024-09  \n",
       "3604    2024-09  \n",
       "3605    2024-09  \n",
       "3606    2024-09  \n",
       "3607    2024-09  \n",
       "\n",
       "[3608 rows x 7 columns]"
      ]
     },
     "execution_count": 3,
     "metadata": {},
     "output_type": "execute_result"
    }
   ],
   "source": [
    "df"
   ]
  },
  {
   "cell_type": "markdown",
   "id": "01447187",
   "metadata": {},
   "source": [
    "### Cleaning Data"
   ]
  },
  {
   "cell_type": "code",
   "execution_count": 4,
   "id": "89bff78e",
   "metadata": {},
   "outputs": [
    {
     "data": {
      "text/html": [
       "<div>\n",
       "<style scoped>\n",
       "    .dataframe tbody tr th:only-of-type {\n",
       "        vertical-align: middle;\n",
       "    }\n",
       "\n",
       "    .dataframe tbody tr th {\n",
       "        vertical-align: top;\n",
       "    }\n",
       "\n",
       "    .dataframe thead th {\n",
       "        text-align: right;\n",
       "    }\n",
       "</style>\n",
       "<table border=\"1\" class=\"dataframe\">\n",
       "  <thead>\n",
       "    <tr style=\"text-align: right;\">\n",
       "      <th></th>\n",
       "      <th>date</th>\n",
       "      <th>category</th>\n",
       "      <th>amount</th>\n",
       "      <th>day</th>\n",
       "      <th>month</th>\n",
       "      <th>year</th>\n",
       "      <th>year_month</th>\n",
       "    </tr>\n",
       "  </thead>\n",
       "  <tbody>\n",
       "    <tr>\n",
       "      <th>0</th>\n",
       "      <td>2022-07-06 05:57:10+00:00</td>\n",
       "      <td>restuarant</td>\n",
       "      <td>5.50</td>\n",
       "      <td>wednesday</td>\n",
       "      <td>7</td>\n",
       "      <td>2022</td>\n",
       "      <td>2022-07</td>\n",
       "    </tr>\n",
       "    <tr>\n",
       "      <th>1</th>\n",
       "      <td>2022-07-06 05:57:27+00:00</td>\n",
       "      <td>market</td>\n",
       "      <td>2.00</td>\n",
       "      <td>wednesday</td>\n",
       "      <td>7</td>\n",
       "      <td>2022</td>\n",
       "      <td>2022-07</td>\n",
       "    </tr>\n",
       "    <tr>\n",
       "      <th>2</th>\n",
       "      <td>2022-07-06 05:58:12+00:00</td>\n",
       "      <td>coffe</td>\n",
       "      <td>30.10</td>\n",
       "      <td>wednesday</td>\n",
       "      <td>7</td>\n",
       "      <td>2022</td>\n",
       "      <td>2022-07</td>\n",
       "    </tr>\n",
       "    <tr>\n",
       "      <th>3</th>\n",
       "      <td>2022-07-06 05:58:25+00:00</td>\n",
       "      <td>market</td>\n",
       "      <td>17.33</td>\n",
       "      <td>wednesday</td>\n",
       "      <td>7</td>\n",
       "      <td>2022</td>\n",
       "      <td>2022-07</td>\n",
       "    </tr>\n",
       "    <tr>\n",
       "      <th>4</th>\n",
       "      <td>2022-07-06 05:59:00+00:00</td>\n",
       "      <td>restuarant</td>\n",
       "      <td>5.50</td>\n",
       "      <td>wednesday</td>\n",
       "      <td>7</td>\n",
       "      <td>2022</td>\n",
       "      <td>2022-07</td>\n",
       "    </tr>\n",
       "    <tr>\n",
       "      <th>...</th>\n",
       "      <td>...</td>\n",
       "      <td>...</td>\n",
       "      <td>...</td>\n",
       "      <td>...</td>\n",
       "      <td>...</td>\n",
       "      <td>...</td>\n",
       "      <td>...</td>\n",
       "    </tr>\n",
       "    <tr>\n",
       "      <th>3603</th>\n",
       "      <td>2024-09-28 13:31:37+00:00</td>\n",
       "      <td>market</td>\n",
       "      <td>8.00</td>\n",
       "      <td>saturday</td>\n",
       "      <td>9</td>\n",
       "      <td>2024</td>\n",
       "      <td>2024-09</td>\n",
       "    </tr>\n",
       "    <tr>\n",
       "      <th>3604</th>\n",
       "      <td>2024-09-29 02:57:07+00:00</td>\n",
       "      <td>transport</td>\n",
       "      <td>0.50</td>\n",
       "      <td>sunday</td>\n",
       "      <td>9</td>\n",
       "      <td>2024</td>\n",
       "      <td>2024-09</td>\n",
       "    </tr>\n",
       "    <tr>\n",
       "      <th>3605</th>\n",
       "      <td>2024-09-29 04:29:03+00:00</td>\n",
       "      <td>market</td>\n",
       "      <td>7.40</td>\n",
       "      <td>sunday</td>\n",
       "      <td>9</td>\n",
       "      <td>2024</td>\n",
       "      <td>2024-09</td>\n",
       "    </tr>\n",
       "    <tr>\n",
       "      <th>3606</th>\n",
       "      <td>2024-09-29 04:53:24+00:00</td>\n",
       "      <td>coffe</td>\n",
       "      <td>15.00</td>\n",
       "      <td>sunday</td>\n",
       "      <td>9</td>\n",
       "      <td>2024</td>\n",
       "      <td>2024-09</td>\n",
       "    </tr>\n",
       "    <tr>\n",
       "      <th>3607</th>\n",
       "      <td>2024-09-29 10:40:38+00:00</td>\n",
       "      <td>restuarant</td>\n",
       "      <td>8.00</td>\n",
       "      <td>sunday</td>\n",
       "      <td>9</td>\n",
       "      <td>2024</td>\n",
       "      <td>2024-09</td>\n",
       "    </tr>\n",
       "  </tbody>\n",
       "</table>\n",
       "<p>3608 rows × 7 columns</p>\n",
       "</div>"
      ],
      "text/plain": [
       "                          date    category  amount        day  month  year  \\\n",
       "0    2022-07-06 05:57:10+00:00  restuarant    5.50  wednesday      7  2022   \n",
       "1    2022-07-06 05:57:27+00:00      market    2.00  wednesday      7  2022   \n",
       "2    2022-07-06 05:58:12+00:00       coffe   30.10  wednesday      7  2022   \n",
       "3    2022-07-06 05:58:25+00:00      market   17.33  wednesday      7  2022   \n",
       "4    2022-07-06 05:59:00+00:00  restuarant    5.50  wednesday      7  2022   \n",
       "...                        ...         ...     ...        ...    ...   ...   \n",
       "3603 2024-09-28 13:31:37+00:00      market    8.00   saturday      9  2024   \n",
       "3604 2024-09-29 02:57:07+00:00   transport    0.50     sunday      9  2024   \n",
       "3605 2024-09-29 04:29:03+00:00      market    7.40     sunday      9  2024   \n",
       "3606 2024-09-29 04:53:24+00:00       coffe   15.00     sunday      9  2024   \n",
       "3607 2024-09-29 10:40:38+00:00  restuarant    8.00     sunday      9  2024   \n",
       "\n",
       "     year_month  \n",
       "0       2022-07  \n",
       "1       2022-07  \n",
       "2       2022-07  \n",
       "3       2022-07  \n",
       "4       2022-07  \n",
       "...         ...  \n",
       "3603    2024-09  \n",
       "3604    2024-09  \n",
       "3605    2024-09  \n",
       "3606    2024-09  \n",
       "3607    2024-09  \n",
       "\n",
       "[3608 rows x 7 columns]"
      ]
     },
     "execution_count": 4,
     "metadata": {},
     "output_type": "execute_result"
    }
   ],
   "source": [
    "df['category'] = df['category'].str.lower().str.strip()\n",
    "df['day'] = df['day'].str.lower().str.strip()\n",
    "df.dropna(subset=['amount'], inplace=True)\n",
    "df"
   ]
  },
  {
   "cell_type": "markdown",
   "id": "f386df3a",
   "metadata": {},
   "source": [
    "### Exploring data & Analyzing behavior"
   ]
  },
  {
   "cell_type": "code",
   "execution_count": 5,
   "id": "4845b769",
   "metadata": {},
   "outputs": [],
   "source": [
    "day_order = ['monday', 'tuesday', 'wednesday', 'thursday', 'friday', 'saturday', 'sunday']\n",
    "\n",
    "# Daily trend\n",
    "daily_spend = df.groupby('day')['amount'].sum().reindex(day_order)\n",
    "\n",
    "# Monthly trend\n",
    "monthly_spend = df.groupby('month')['amount'].sum()\n",
    "\n",
    "# Yearly trend\n",
    "yearly_spend = df.groupby('year')['amount'].sum()\n",
    "\n",
    "# Category breakdown\n",
    "category_spend = df.groupby('category')['amount'].sum().sort_values(ascending=False)"
   ]
  },
  {
   "cell_type": "code",
   "execution_count": 6,
   "id": "db560c16",
   "metadata": {},
   "outputs": [
    {
     "name": "stdout",
     "output_type": "stream",
     "text": [
      "day\n",
      "monday        7187.77\n",
      "tuesday       8838.84\n",
      "wednesday    12553.57\n",
      "thursday      7549.24\n",
      "friday        8805.89\n",
      "saturday      8548.67\n",
      "sunday        8321.93\n",
      "Name: amount, dtype: float64\n"
     ]
    }
   ],
   "source": [
    "print(daily_spend)"
   ]
  },
  {
   "cell_type": "code",
   "execution_count": 7,
   "id": "9cec534e",
   "metadata": {},
   "outputs": [
    {
     "name": "stdout",
     "output_type": "stream",
     "text": [
      "month\n",
      "1      6231.12\n",
      "2      2791.50\n",
      "3      3833.79\n",
      "4      3931.18\n",
      "5      6621.38\n",
      "6      4579.38\n",
      "7     13563.59\n",
      "8      4625.80\n",
      "9      6036.70\n",
      "10     3729.38\n",
      "11     2446.12\n",
      "12     3415.97\n",
      "Name: amount, dtype: float64\n"
     ]
    }
   ],
   "source": [
    "print(monthly_spend)"
   ]
  },
  {
   "cell_type": "code",
   "execution_count": 8,
   "id": "60893c60",
   "metadata": {},
   "outputs": [
    {
     "name": "stdout",
     "output_type": "stream",
     "text": [
      "year\n",
      "2022    10131.84\n",
      "2023    25651.22\n",
      "2024    26022.85\n",
      "Name: amount, dtype: float64\n"
     ]
    }
   ],
   "source": [
    "print(yearly_spend)"
   ]
  },
  {
   "cell_type": "code",
   "execution_count": 9,
   "id": "be584bca",
   "metadata": {},
   "outputs": [
    {
     "name": "stdout",
     "output_type": "stream",
     "text": [
      "category\n",
      "restuarant           10425.60\n",
      "coffe                 9350.70\n",
      "market                6451.03\n",
      "health                5896.50\n",
      "clothing              4365.50\n",
      "communal              4192.50\n",
      "travel                3756.45\n",
      "tech                  2985.00\n",
      "events                2751.30\n",
      "learning              2525.31\n",
      "business lunch        2503.01\n",
      "sport                 1436.76\n",
      "other                 1045.75\n",
      "taxi                   865.08\n",
      "transport              746.70\n",
      "motel                  675.00\n",
      "phone                  666.08\n",
      "joy                    524.30\n",
      "business_expenses      400.00\n",
      "fuel                   114.00\n",
      "rent car                95.00\n",
      "film/enjoyment          34.34\n",
      "Name: amount, dtype: float64\n"
     ]
    }
   ],
   "source": [
    "print(category_spend)"
   ]
  },
  {
   "cell_type": "code",
   "execution_count": 10,
   "id": "613cbbf6",
   "metadata": {},
   "outputs": [
    {
     "data": {
      "image/png": "[encoded data removed]",
      "text/plain": [
       "<Figure size 640x480 with 1 Axes>"
      ]
     },
     "metadata": {},
     "output_type": "display_data"
    }
   ],
   "source": [
    "sns.lineplot(x=monthly_spend.index.astype(str), y=monthly_spend.values)\n",
    "plt.title(\"Monthly Spending Trend\")\n",
    "plt.xlabel(\"Month\")\n",
    "plt.ylabel(\"Total Amount\")\n",
    "plt.show()\n"
   ]
  },
  {
   "cell_type": "code",
   "execution_count": 11,
   "id": "d35bf691",
   "metadata": {},
   "outputs": [
    {
     "data": {
      "image/png": "[encoded data removed]",
      "text/plain": [
       "<Figure size 640x480 with 1 Axes>"
      ]
     },
     "metadata": {},
     "output_type": "display_data"
    }
   ],
   "source": [
    "sns.barplot(x=yearly_spend.index, y=yearly_spend.values)\n",
    "plt.title(\"Yearly Spending Trend\")\n",
    "plt.xlabel(\"Year\")\n",
    "plt.ylabel(\"Total Amount\")\n",
    "plt.show()\n"
   ]
  },
  {
   "cell_type": "code",
   "execution_count": 12,
   "id": "8fc362ba",
   "metadata": {},
   "outputs": [
    {
     "data": {
      "image/png": "[encoded data removed]",
      "text/plain": [
       "<Figure size 640x480 with 1 Axes>"
      ]
     },
     "metadata": {},
     "output_type": "display_data"
    }
   ],
   "source": [
    "sns.barplot(x=daily_spend.index, y=daily_spend.values)\n",
    "plt.title(\"Daily Spending Trend\")\n",
    "plt.xlabel(\"Date\")\n",
    "plt.ylabel(\"Total Amount Spent\")\n",
    "plt.show()\n",
    "\n",
    "\n"
   ]
  },
  {
   "cell_type": "code",
   "execution_count": 13,
   "id": "a66ab277",
   "metadata": {},
   "outputs": [
    {
     "data": {
      "text/plain": [
       "Text(0.5, 1.0, 'Spending by Category')"
      ]
     },
     "execution_count": 13,
     "metadata": {},
     "output_type": "execute_result"
    },
    {
     "data": {
      "image/png": "[encoded data removed]",
      "text/plain": [
       "<Figure size 640x480 with 1 Axes>"
      ]
     },
     "metadata": {},
     "output_type": "display_data"
    }
   ],
   "source": [
    "category_spend.plot(kind='bar')\n",
    "plt.title(\"Spending by Category\")"
   ]
  },
  {
   "cell_type": "markdown",
   "id": "9e9544d8",
   "metadata": {},
   "source": [
    "### Calculate average weekly spending"
   ]
  },
  {
   "cell_type": "code",
   "execution_count": 14,
   "id": "ab1107b3",
   "metadata": {},
   "outputs": [
    {
     "name": "stdout",
     "output_type": "stream",
     "text": [
      "Average weekly spending: 528.26\n"
     ]
    }
   ],
   "source": [
    "df.set_index('date', inplace=True)\n",
    "weekly_spend = df['amount'].resample('W').sum()\n",
    "avg_weekly_spend = weekly_spend.mean()\n",
    "print(f\"Average weekly spending: {avg_weekly_spend:.2f}\")"
   ]
  },
  {
   "cell_type": "markdown",
   "id": "310623d1",
   "metadata": {},
   "source": [
    "### Calculate average monthly spending"
   ]
  },
  {
   "cell_type": "code",
   "execution_count": 15,
   "id": "14eaff06",
   "metadata": {},
   "outputs": [
    {
     "name": "stdout",
     "output_type": "stream",
     "text": [
      "Average monthly spending: 2289.11\n"
     ]
    },
    {
     "name": "stderr",
     "output_type": "stream",
     "text": [
      "C:\\Users\\mazdo\\AppData\\Local\\Temp\\ipykernel_3512\\1883661532.py:1: FutureWarning: 'M' is deprecated and will be removed in a future version, please use 'ME' instead.\n",
      "  monthly_spend = df['amount'].resample('M').sum()\n"
     ]
    }
   ],
   "source": [
    "monthly_spend = df['amount'].resample('M').sum()\n",
    "avg_monthly_spend = monthly_spend.mean()\n",
    "print(f\"Average monthly spending: {avg_monthly_spend:.2f}\")"
   ]
  },
  {
   "cell_type": "markdown",
   "id": "db15de5a",
   "metadata": {},
   "source": [
    "### Comparing weekdays & weekends"
   ]
  },
  {
   "cell_type": "code",
   "execution_count": 16,
   "id": "c6c938d2",
   "metadata": {},
   "outputs": [
    {
     "name": "stdout",
     "output_type": "stream",
     "text": [
      "Total spend on weekdays: 44935.31\n",
      "Total spend on weekends: 16870.60\n"
     ]
    }
   ],
   "source": [
    "weekdays = daily_spend[day_order[:5]].sum()\n",
    "weekends = daily_spend[day_order[5:]].sum()\n",
    "\n",
    "print(f\"Total spend on weekdays: {weekdays:.2f}\")\n",
    "print(f\"Total spend on weekends: {weekends:.2f}\")"
   ]
  },
  {
   "cell_type": "markdown",
   "id": "129deb3e",
   "metadata": {},
   "source": [
    "### By Hour of the Day"
   ]
  },
  {
   "cell_type": "code",
   "execution_count": 17,
   "id": "72b1e789",
   "metadata": {},
   "outputs": [
    {
     "name": "stdout",
     "output_type": "stream",
     "text": [
      "hour\n",
      "0      312.50\n",
      "1      106.10\n",
      "2      162.35\n",
      "3      603.60\n",
      "4     2581.24\n",
      "5     1946.53\n",
      "6     2741.28\n",
      "7     4420.90\n",
      "8     2424.17\n",
      "9     4248.20\n",
      "10    3085.12\n",
      "11    2003.73\n",
      "12    2420.45\n",
      "13    2046.33\n",
      "14    4553.29\n",
      "15    4188.36\n",
      "16    2868.29\n",
      "17    7629.83\n",
      "18    6490.34\n",
      "19    5433.82\n",
      "20     837.29\n",
      "21     482.80\n",
      "22     166.00\n",
      "23      53.39\n",
      "Name: amount, dtype: float64\n"
     ]
    }
   ],
   "source": [
    "df['time'] = df.index.time\n",
    "df['hour'] = df.index.hour\n",
    "spend_by_hour = df.groupby('hour')['amount'].sum()\n",
    "print(spend_by_hour)\n",
    "\n"
   ]
  },
  {
   "cell_type": "code",
   "execution_count": 18,
   "id": "958ad178",
   "metadata": {},
   "outputs": [
    {
     "data": {
      "image/png": "[encoded data removed]",
      "text/plain": [
       "<Figure size 640x480 with 1 Axes>"
      ]
     },
     "metadata": {},
     "output_type": "display_data"
    }
   ],
   "source": [
    "sns.barplot(x=spend_by_hour.index, y=spend_by_hour.values)\n",
    "plt.title(\"Total Spending by Hour of the Day\")\n",
    "plt.xlabel(\"Hour of Day (0-23)\")\n",
    "plt.ylabel(\"Total Amount Spent\")\n",
    "plt.xticks(range(0, 24))  # show all hours on x-axis\n",
    "plt.show()\n"
   ]
  },
  {
   "cell_type": "markdown",
   "id": "319da27f",
   "metadata": {},
   "source": [
    "### monthly budget limits per category"
   ]
  },
  {
   "cell_type": "code",
   "execution_count": 19,
   "id": "e34a9f05",
   "metadata": {},
   "outputs": [
    {
     "name": "stdout",
     "output_type": "stream",
     "text": [
      "category\n",
      "business lunch       104.292083\n",
      "business_expenses    133.333333\n",
      "clothing             229.763158\n",
      "coffe                346.322222\n",
      "communal             174.687500\n",
      "events               152.850000\n",
      "film/enjoyment         8.585000\n",
      "fuel                  19.000000\n",
      "health               310.342105\n",
      "joy                   47.663636\n",
      "learning             109.796087\n",
      "market               238.927037\n",
      "motel                675.000000\n",
      "other                 43.572917\n",
      "phone                 24.669630\n",
      "rent car              95.000000\n",
      "restuarant           386.133333\n",
      "sport                 71.838000\n",
      "taxi                  34.603200\n",
      "tech                 426.428571\n",
      "transport             27.655556\n",
      "travel               626.075000\n",
      "Name: budget_limit, dtype: float64\n"
     ]
    }
   ],
   "source": [
    "monthly_category_spend = df.groupby(['year_month', 'category'])['amount'].sum().reset_index()\n",
    "category_monthly_stats = monthly_category_spend.groupby('category')['amount'].agg(['mean', 'std', 'max', 'min', 'median'])\n",
    "category_monthly_stats['budget_limit'] = category_monthly_stats['mean']\n",
    "print(category_monthly_stats['budget_limit'])"
   ]
  },
  {
   "cell_type": "code",
   "execution_count": 22,
   "id": "522f5166",
   "metadata": {},
   "outputs": [],
   "source": [
    "df.to_csv(\"final.csv\")"
   ]
  }
 ],
 "metadata": {
  "kernelspec": {
   "display_name": "base",
   "language": "python",
   "name": "python3"
  },
  "language_info": {
   "codemirror_mode": {
    "name": "ipython",
    "version": 3
   },
   "file_extension": ".py",
   "mimetype": "text/x-python",
   "name": "python",
   "nbconvert_exporter": "python",
   "pygments_lexer": "ipython3",
   "version": "3.13.5"
  }
 },
 "nbformat": 4,
 "nbformat_minor": 5
}
